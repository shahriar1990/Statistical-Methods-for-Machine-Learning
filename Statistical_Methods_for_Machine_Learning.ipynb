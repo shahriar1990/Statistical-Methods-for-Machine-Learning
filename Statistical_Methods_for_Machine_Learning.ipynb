{
  "cells": [
    {
      "cell_type": "markdown",
      "metadata": {
        "id": "view-in-github",
        "colab_type": "text"
      },
      "source": [
        "<a href=\"https://colab.research.google.com/github/shahriar1990/Statistical-Methods-for-Machine-Learning/blob/master/Statistical_Methods_for_Machine_Learning.ipynb\" target=\"_parent\"><img src=\"https://colab.research.google.com/assets/colab-badge.svg\" alt=\"Open In Colab\"/></a>"
      ]
    },
    {
      "cell_type": "markdown",
      "id": "young-representative",
      "metadata": {
        "id": "young-representative"
      },
      "source": [
        "# Gaussian Distribution"
      ]
    },
    {
      "cell_type": "code",
      "execution_count": null,
      "id": "medium-means",
      "metadata": {
        "id": "medium-means"
      },
      "outputs": [],
      "source": [
        "#generate and plot and idealized gaussian\n",
        "\n",
        "from numpy import arange\n",
        "from matplotlib import pyplot\n",
        "from scipy.stats import norm"
      ]
    },
    {
      "cell_type": "code",
      "execution_count": null,
      "id": "miniature-utility",
      "metadata": {
        "id": "miniature-utility"
      },
      "outputs": [],
      "source": [
        "# x_Axis for the plot\n",
        "x_axis = arange(-3,3,0.001)"
      ]
    },
    {
      "cell_type": "code",
      "execution_count": null,
      "id": "regulated-blues",
      "metadata": {
        "id": "regulated-blues"
      },
      "outputs": [],
      "source": [
        "# y_Axis as the Gaussian\n",
        "y_axis = norm.pdf(x_axis,0,1)"
      ]
    },
    {
      "cell_type": "code",
      "execution_count": null,
      "id": "upper-basics",
      "metadata": {
        "id": "upper-basics"
      },
      "outputs": [],
      "source": [
        "#Plot Data"
      ]
    },
    {
      "cell_type": "code",
      "execution_count": null,
      "id": "retained-stylus",
      "metadata": {
        "id": "retained-stylus",
        "outputId": "983ad101-ba42-4ecf-88a5-f177b294576c"
      },
      "outputs": [
        {
          "data": {
            "image/png": "[encoded data removed]",
            "text/plain": [
              "<Figure size 432x288 with 1 Axes>"
            ]
          },
          "metadata": {
            "needs_background": "light"
          },
          "output_type": "display_data"
        }
      ],
      "source": [
        "pyplot.plot(x_axis,y_axis)\n",
        "pyplot.show()"
      ]
    },
    {
      "cell_type": "markdown",
      "id": "developed-perception",
      "metadata": {
        "id": "developed-perception"
      },
      "source": [
        "# Histogram Of The Sample Random Gaussian Number"
      ]
    },
    {
      "cell_type": "code",
      "execution_count": null,
      "id": "british-bosnia",
      "metadata": {
        "id": "british-bosnia"
      },
      "outputs": [],
      "source": [
        "# generate a sample of random gaussians\n",
        "from numpy.random import seed\n",
        "from numpy.random import randn\n",
        "from matplotlib import pyplot"
      ]
    },
    {
      "cell_type": "code",
      "execution_count": null,
      "id": "improved-flavor",
      "metadata": {
        "id": "improved-flavor"
      },
      "outputs": [],
      "source": [
        "#seed the random number generator\n",
        "seed(1)"
      ]
    },
    {
      "cell_type": "code",
      "execution_count": null,
      "id": "charged-being",
      "metadata": {
        "id": "charged-being"
      },
      "outputs": [],
      "source": [
        "#generate univariate observation\n",
        "data = 5*randn(10000) + 50"
      ]
    },
    {
      "cell_type": "code",
      "execution_count": null,
      "id": "royal-internship",
      "metadata": {
        "id": "royal-internship",
        "outputId": "ce882751-8432-4623-d2d6-7bc3ae050a78"
      },
      "outputs": [
        {
          "data": {
            "text/plain": [
              "<function matplotlib.pyplot.show(close=None, block=None)>"
            ]
          },
          "execution_count": 4,
          "metadata": {},
          "output_type": "execute_result"
        },
        {
          "data": {
            "image/png": "[encoded data removed]",
            "text/plain": [
              "<Figure size 432x288 with 1 Axes>"
            ]
          },
          "metadata": {
            "needs_background": "light"
          },
          "output_type": "display_data"
        }
      ],
      "source": [
        "#histogram of generated data\n",
        "pyplot.hist(data,bins=100)\n",
        "pyplot.show"
      ]
    },
    {
      "cell_type": "markdown",
      "id": "white-sucking",
      "metadata": {
        "id": "white-sucking"
      },
      "source": [
        "# Central Tendency  [ MEAN ]"
      ]
    },
    {
      "cell_type": "code",
      "execution_count": null,
      "id": "gentle-mixture",
      "metadata": {
        "id": "gentle-mixture"
      },
      "outputs": [],
      "source": [
        "# Ccalculate the mean of the sample"
      ]
    },
    {
      "cell_type": "code",
      "execution_count": null,
      "id": "usual-monitoring",
      "metadata": {
        "id": "usual-monitoring"
      },
      "outputs": [],
      "source": [
        "from numpy.random import seed\n",
        "from numpy.random import randn\n",
        "from numpy import mean"
      ]
    },
    {
      "cell_type": "code",
      "execution_count": null,
      "id": "surrounded-taxation",
      "metadata": {
        "id": "surrounded-taxation"
      },
      "outputs": [],
      "source": [
        "#seed the random number generator"
      ]
    },
    {
      "cell_type": "code",
      "execution_count": null,
      "id": "musical-venture",
      "metadata": {
        "id": "musical-venture"
      },
      "outputs": [],
      "source": [
        "seed(1)"
      ]
    },
    {
      "cell_type": "code",
      "execution_count": null,
      "id": "dominant-mandate",
      "metadata": {
        "id": "dominant-mandate"
      },
      "outputs": [],
      "source": [
        "#generate univariate observation"
      ]
    },
    {
      "cell_type": "code",
      "execution_count": null,
      "id": "upset-strike",
      "metadata": {
        "id": "upset-strike"
      },
      "outputs": [],
      "source": [
        "data = 5*randn(10000)+50"
      ]
    },
    {
      "cell_type": "code",
      "execution_count": null,
      "id": "disturbed-amber",
      "metadata": {
        "id": "disturbed-amber"
      },
      "outputs": [],
      "source": [
        "#calculate mean"
      ]
    },
    {
      "cell_type": "code",
      "execution_count": null,
      "id": "mounted-contract",
      "metadata": {
        "id": "mounted-contract"
      },
      "outputs": [],
      "source": [
        "result = mean(data)"
      ]
    },
    {
      "cell_type": "code",
      "execution_count": null,
      "id": "fixed-scale",
      "metadata": {
        "id": "fixed-scale",
        "outputId": "3fb55a8b-6b83-464a-d74c-c9f23caf6838"
      },
      "outputs": [
        {
          "name": "stdout",
          "output_type": "stream",
          "text": [
            "Mean:50.049\n"
          ]
        }
      ],
      "source": [
        "print('Mean:%.3f' % result)"
      ]
    },
    {
      "cell_type": "markdown",
      "id": "representative-blink",
      "metadata": {
        "id": "representative-blink"
      },
      "source": [
        "# Central Tendency  [ median]"
      ]
    },
    {
      "cell_type": "code",
      "execution_count": null,
      "id": "neither-inquiry",
      "metadata": {
        "id": "neither-inquiry"
      },
      "outputs": [],
      "source": [
        "#calculate the median a sample"
      ]
    },
    {
      "cell_type": "code",
      "execution_count": null,
      "id": "closing-array",
      "metadata": {
        "id": "closing-array"
      },
      "outputs": [],
      "source": [
        "from numpy.random import seed\n",
        "from numpy.random import randn\n",
        "from numpy import median"
      ]
    },
    {
      "cell_type": "code",
      "execution_count": null,
      "id": "signal-concept",
      "metadata": {
        "id": "signal-concept"
      },
      "outputs": [],
      "source": [
        "seed(1)"
      ]
    },
    {
      "cell_type": "code",
      "execution_count": null,
      "id": "shared-glenn",
      "metadata": {
        "id": "shared-glenn"
      },
      "outputs": [],
      "source": [
        "# generate univariat observation"
      ]
    },
    {
      "cell_type": "code",
      "execution_count": null,
      "id": "satisfied-replication",
      "metadata": {
        "id": "satisfied-replication"
      },
      "outputs": [],
      "source": [
        "data = 5 * randn(1000) + 50"
      ]
    },
    {
      "cell_type": "code",
      "execution_count": null,
      "id": "alternative-cigarette",
      "metadata": {
        "id": "alternative-cigarette"
      },
      "outputs": [],
      "source": [
        "#calculate the median"
      ]
    },
    {
      "cell_type": "code",
      "execution_count": null,
      "id": "specified-masters",
      "metadata": {
        "id": "specified-masters"
      },
      "outputs": [],
      "source": [
        "result = median(data)"
      ]
    },
    {
      "cell_type": "code",
      "execution_count": null,
      "id": "expensive-plymouth",
      "metadata": {
        "id": "expensive-plymouth",
        "outputId": "998b9aaa-c384-416f-b96b-bcb2517084d5"
      },
      "outputs": [
        {
          "name": "stdout",
          "output_type": "stream",
          "text": [
            "Median:50.206\n"
          ]
        }
      ],
      "source": [
        "print('Median:%.3f' %result)"
      ]
    },
    {
      "cell_type": "markdown",
      "id": "focal-witness",
      "metadata": {
        "id": "focal-witness"
      },
      "source": [
        "# Central Tendency [ variance ]"
      ]
    },
    {
      "cell_type": "code",
      "execution_count": null,
      "id": "placed-cabin",
      "metadata": {
        "id": "placed-cabin"
      },
      "outputs": [],
      "source": [
        "#generate and plot gaussians with diffrant variance"
      ]
    },
    {
      "cell_type": "code",
      "execution_count": null,
      "id": "adjustable-vegetarian",
      "metadata": {
        "id": "adjustable-vegetarian"
      },
      "outputs": [],
      "source": [
        "from numpy import arange\n",
        "from matplotlib import pyplot\n",
        "from scipy.stats import norm"
      ]
    },
    {
      "cell_type": "code",
      "execution_count": null,
      "id": "scheduled-transition",
      "metadata": {
        "id": "scheduled-transition"
      },
      "outputs": [],
      "source": [
        "seed(1)"
      ]
    },
    {
      "cell_type": "code",
      "execution_count": null,
      "id": "legislative-stack",
      "metadata": {
        "id": "legislative-stack"
      },
      "outputs": [],
      "source": [
        "#x_axis for the plot"
      ]
    },
    {
      "cell_type": "code",
      "execution_count": null,
      "id": "falling-bangkok",
      "metadata": {
        "id": "falling-bangkok"
      },
      "outputs": [],
      "source": [
        "x_axis = arange(-3,3,0.001)"
      ]
    },
    {
      "cell_type": "code",
      "execution_count": null,
      "id": "vital-space",
      "metadata": {
        "id": "vital-space",
        "outputId": "c41e7a24-29c0-4358-8603-3eaade5f422b"
      },
      "outputs": [
        {
          "data": {
            "image/png": "[encoded data removed]",
            "text/plain": [
              "<Figure size 432x288 with 1 Axes>"
            ]
          },
          "metadata": {
            "needs_background": "light"
          },
          "output_type": "display_data"
        }
      ],
      "source": [
        "#plot low variance   >>>>     Display the probability density function (pdf)\n",
        "pyplot.plot(x_axis,norm.pdf(x_axis,0,0.5))\n",
        "\n",
        "#plot high variane\n",
        "pyplot.plot(x_axis,norm.pdf(x_axis,0,1))\n",
        "\n",
        "pyplot.show()"
      ]
    },
    {
      "cell_type": "code",
      "execution_count": null,
      "id": "junior-techno",
      "metadata": {
        "id": "junior-techno"
      },
      "outputs": [],
      "source": [
        ""
      ]
    },
    {
      "cell_type": "markdown",
      "id": "rocky-living",
      "metadata": {
        "id": "rocky-living"
      },
      "source": [
        "# variance (variance of sample)"
      ]
    },
    {
      "cell_type": "code",
      "execution_count": null,
      "id": "proved-worcester",
      "metadata": {
        "id": "proved-worcester"
      },
      "outputs": [],
      "source": [
        "# calculate the variance of a sample"
      ]
    },
    {
      "cell_type": "code",
      "execution_count": null,
      "id": "advised-vitamin",
      "metadata": {
        "id": "advised-vitamin"
      },
      "outputs": [],
      "source": [
        "from numpy.random import randn\n",
        "from numpy import var"
      ]
    },
    {
      "cell_type": "code",
      "execution_count": null,
      "id": "dressed-scene",
      "metadata": {
        "id": "dressed-scene"
      },
      "outputs": [],
      "source": [
        "data = 5* randn(10000) + 50"
      ]
    },
    {
      "cell_type": "code",
      "execution_count": null,
      "id": "integral-retreat",
      "metadata": {
        "id": "integral-retreat"
      },
      "outputs": [],
      "source": [
        "result = var(data)"
      ]
    },
    {
      "cell_type": "code",
      "execution_count": null,
      "id": "involved-membrane",
      "metadata": {
        "id": "involved-membrane",
        "outputId": "203171dc-0b75-47cb-e60f-fd404c1311c8"
      },
      "outputs": [
        {
          "name": "stdout",
          "output_type": "stream",
          "text": [
            "Var:24.939\n"
          ]
        }
      ],
      "source": [
        "print('Var:%.3f' %result)"
      ]
    },
    {
      "cell_type": "code",
      "execution_count": null,
      "id": "charming-saturn",
      "metadata": {
        "id": "charming-saturn"
      },
      "outputs": [],
      "source": [
        ""
      ]
    },
    {
      "cell_type": "markdown",
      "id": "robust-vietnamese",
      "metadata": {
        "id": "robust-vietnamese"
      },
      "source": [
        "# Variance [ standard deviation ] "
      ]
    },
    {
      "cell_type": "code",
      "execution_count": null,
      "id": "happy-translator",
      "metadata": {
        "id": "happy-translator"
      },
      "outputs": [],
      "source": [
        "#calculate the standard deviation of a sample"
      ]
    },
    {
      "cell_type": "code",
      "execution_count": null,
      "id": "offshore-andorra",
      "metadata": {
        "id": "offshore-andorra"
      },
      "outputs": [],
      "source": [
        "from numpy.random import randn\n",
        "from numpy import std"
      ]
    },
    {
      "cell_type": "code",
      "execution_count": null,
      "id": "vertical-division",
      "metadata": {
        "id": "vertical-division"
      },
      "outputs": [],
      "source": [
        "data = 5 * randn(10000) + 50"
      ]
    },
    {
      "cell_type": "code",
      "execution_count": null,
      "id": "periodic-darkness",
      "metadata": {
        "id": "periodic-darkness"
      },
      "outputs": [],
      "source": [
        "result = std(data)"
      ]
    },
    {
      "cell_type": "code",
      "execution_count": null,
      "id": "classified-sailing",
      "metadata": {
        "id": "classified-sailing",
        "outputId": "fd4b6044-af49-48d7-cd43-030e68e6a55b"
      },
      "outputs": [
        {
          "name": "stdout",
          "output_type": "stream",
          "text": [
            "Std:5.006\n"
          ]
        }
      ],
      "source": [
        "print('Std:%.3f' %result)"
      ]
    },
    {
      "cell_type": "markdown",
      "id": "important-remedy",
      "metadata": {
        "id": "important-remedy"
      },
      "source": [
        "# chapter 2\n",
        "## Data visualization\n",
        "### Matplotlib\n",
        "#### Example creating a line plot from data"
      ]
    },
    {
      "cell_type": "code",
      "execution_count": null,
      "id": "sharp-blame",
      "metadata": {
        "id": "sharp-blame"
      },
      "outputs": [],
      "source": [
        "#Example of a line plot\n",
        "from numpy import sin\n",
        "from matplotlib import pyplot"
      ]
    },
    {
      "cell_type": "code",
      "execution_count": null,
      "id": "confident-locking",
      "metadata": {
        "id": "confident-locking"
      },
      "outputs": [],
      "source": [
        "#consistant interval for x_axis\n",
        "x = [x * 0.1 for x in range (100)]"
      ]
    },
    {
      "cell_type": "code",
      "execution_count": null,
      "id": "medieval-illinois",
      "metadata": {
        "id": "medieval-illinois"
      },
      "outputs": [],
      "source": [
        "#function of x for y_axis\n",
        "y = sin(x)"
      ]
    },
    {
      "cell_type": "code",
      "execution_count": null,
      "id": "crude-livestock",
      "metadata": {
        "id": "crude-livestock",
        "outputId": "1b4713c1-8cd6-4444-b98d-fe1a394fba5b"
      },
      "outputs": [
        {
          "data": {
            "image/png": "[encoded data removed]",
            "text/plain": [
              "<Figure size 432x288 with 1 Axes>"
            ]
          },
          "metadata": {
            "needs_background": "light"
          },
          "output_type": "display_data"
        }
      ],
      "source": [
        "#create line plot\n",
        "pyplot.plot(x,y)\n",
        "#show line plot\n",
        "pyplot.show()"
      ]
    },
    {
      "cell_type": "code",
      "execution_count": null,
      "id": "permanent-teddy",
      "metadata": {
        "id": "permanent-teddy"
      },
      "outputs": [],
      "source": [
        ""
      ]
    },
    {
      "cell_type": "markdown",
      "id": "minute-robertson",
      "metadata": {
        "id": "minute-robertson"
      },
      "source": [
        "# Bar Chart"
      ]
    },
    {
      "cell_type": "code",
      "execution_count": null,
      "id": "honey-formula",
      "metadata": {
        "id": "honey-formula"
      },
      "outputs": [],
      "source": [
        "#example of a bar chart\n",
        "from random import seed\n",
        "from random import randint\n",
        "from matplotlib import pyplot"
      ]
    },
    {
      "cell_type": "code",
      "execution_count": null,
      "id": "transsexual-falls",
      "metadata": {
        "id": "transsexual-falls"
      },
      "outputs": [],
      "source": [
        "#seed the random number generator\n",
        "seed(1)"
      ]
    },
    {
      "cell_type": "code",
      "execution_count": null,
      "id": "editorial-harvey",
      "metadata": {
        "id": "editorial-harvey"
      },
      "outputs": [],
      "source": [
        "#names for categories\n",
        "x= ['a','b','c']"
      ]
    },
    {
      "cell_type": "code",
      "execution_count": null,
      "id": "active-organization",
      "metadata": {
        "id": "active-organization"
      },
      "outputs": [],
      "source": [
        "#quantities for each category\n",
        "y = [randint(0,100),randint(0,100), randint(0,100)]"
      ]
    },
    {
      "cell_type": "code",
      "execution_count": null,
      "id": "intermediate-oxford",
      "metadata": {
        "id": "intermediate-oxford",
        "outputId": "39de1c50-a249-43ec-bd1e-9edd06b36429"
      },
      "outputs": [
        {
          "data": {
            "image/png": "[encoded data removed]",
            "text/plain": [
              "<Figure size 432x288 with 1 Axes>"
            ]
          },
          "metadata": {
            "needs_background": "light"
          },
          "output_type": "display_data"
        }
      ],
      "source": [
        "#create a bar chart\n",
        "pyplot.bar(x,y)\n",
        "pyplot.show()"
      ]
    },
    {
      "cell_type": "code",
      "execution_count": null,
      "id": "confidential-budget",
      "metadata": {
        "id": "confidential-budget"
      },
      "outputs": [],
      "source": [
        ""
      ]
    },
    {
      "cell_type": "markdown",
      "id": "essential-andrew",
      "metadata": {
        "id": "essential-andrew"
      },
      "source": [
        "# Histogram"
      ]
    },
    {
      "cell_type": "code",
      "execution_count": null,
      "id": "emerging-wells",
      "metadata": {
        "id": "emerging-wells"
      },
      "outputs": [],
      "source": [
        "from numpy.random import randn\n",
        "from matplotlib import pyplot"
      ]
    },
    {
      "cell_type": "code",
      "execution_count": null,
      "id": "verified-period",
      "metadata": {
        "id": "verified-period"
      },
      "outputs": [],
      "source": [
        "x = randn(1000)"
      ]
    },
    {
      "cell_type": "code",
      "execution_count": null,
      "id": "mineral-empty",
      "metadata": {
        "id": "mineral-empty",
        "outputId": "dac2a6ac-2588-44cc-f87c-99a9d67b44d5"
      },
      "outputs": [
        {
          "data": {
            "image/png": "[encoded data removed]",
            "text/plain": [
              "<Figure size 432x288 with 1 Axes>"
            ]
          },
          "metadata": {
            "needs_background": "light"
          },
          "output_type": "display_data"
        }
      ],
      "source": [
        "pyplot.hist(x)\n",
        "pyplot.show()"
      ]
    },
    {
      "cell_type": "code",
      "execution_count": null,
      "id": "ready-concrete",
      "metadata": {
        "id": "ready-concrete"
      },
      "outputs": [],
      "source": [
        ""
      ]
    },
    {
      "cell_type": "markdown",
      "id": "toxic-rally",
      "metadata": {
        "id": "toxic-rally"
      },
      "source": [
        "# BOX and Whisker plot"
      ]
    },
    {
      "cell_type": "code",
      "execution_count": null,
      "id": "satisfied-responsibility",
      "metadata": {
        "id": "satisfied-responsibility"
      },
      "outputs": [],
      "source": [
        "#example of a box and whisker plot\n",
        "from numpy.random import randn\n",
        "from matplotlib import pyplot"
      ]
    },
    {
      "cell_type": "code",
      "execution_count": null,
      "id": "confident-newspaper",
      "metadata": {
        "id": "confident-newspaper"
      },
      "outputs": [],
      "source": [
        "# Random number drawn from a gaussian distribution\n",
        "x= [randn(1000),5*randn(1000),10*randn(1000)]"
      ]
    },
    {
      "cell_type": "code",
      "execution_count": null,
      "id": "breathing-ceramic",
      "metadata": {
        "id": "breathing-ceramic",
        "outputId": "83854aa9-3c68-42d8-a6d1-a36dc7cb6087"
      },
      "outputs": [
        {
          "data": {
            "image/png": "[encoded data removed]",
            "text/plain": [
              "<Figure size 432x288 with 1 Axes>"
            ]
          },
          "metadata": {
            "needs_background": "light"
          },
          "output_type": "display_data"
        }
      ],
      "source": [
        "#creat a box plot\n",
        "pyplot.boxplot(x)\n",
        "pyplot.show()"
      ]
    },
    {
      "cell_type": "code",
      "execution_count": null,
      "id": "outer-strain",
      "metadata": {
        "id": "outer-strain"
      },
      "outputs": [],
      "source": [
        ""
      ]
    },
    {
      "cell_type": "markdown",
      "id": "higher-yeast",
      "metadata": {
        "id": "higher-yeast"
      },
      "source": [
        "# example creating a scatter plot from data"
      ]
    },
    {
      "cell_type": "code",
      "execution_count": null,
      "id": "executive-proxy",
      "metadata": {
        "id": "executive-proxy"
      },
      "outputs": [],
      "source": [
        "#example of a scatter plot \n",
        "from numpy.random import randn\n",
        "from matplotlib import pyplot"
      ]
    },
    {
      "cell_type": "code",
      "execution_count": null,
      "id": "ideal-acting",
      "metadata": {
        "id": "ideal-acting"
      },
      "outputs": [],
      "source": [
        "# first variable\n",
        "x = 20 * randn(1000)+1000"
      ]
    },
    {
      "cell_type": "code",
      "execution_count": null,
      "id": "european-swing",
      "metadata": {
        "id": "european-swing"
      },
      "outputs": [],
      "source": [
        "#second variable\n",
        "y = x + (10*randn(1000)+50)"
      ]
    },
    {
      "cell_type": "code",
      "execution_count": null,
      "id": "unusual-firewall",
      "metadata": {
        "id": "unusual-firewall",
        "outputId": "9bc2f881-7103-4764-992c-9d7b2fd595ee"
      },
      "outputs": [
        {
          "data": {
            "image/png": "[encoded data removed]",
            "text/plain": [
              "<Figure size 432x288 with 1 Axes>"
            ]
          },
          "metadata": {
            "needs_background": "light"
          },
          "output_type": "display_data"
        }
      ],
      "source": [
        "#create scatter plot\n",
        "pyplot.scatter(x,y)\n",
        "pyplot.show()"
      ]
    },
    {
      "cell_type": "code",
      "execution_count": null,
      "id": "associate-springfield",
      "metadata": {
        "id": "associate-springfield"
      },
      "outputs": [],
      "source": [
        ""
      ]
    },
    {
      "cell_type": "markdown",
      "id": "impaired-decision",
      "metadata": {
        "id": "impaired-decision"
      },
      "source": [
        "# chapter 3\n",
        "## Randomness In Machin Learning\n",
        "### Seed the Random Number Generator"
      ]
    },
    {
      "cell_type": "code",
      "execution_count": null,
      "id": "liable-official",
      "metadata": {
        "id": "liable-official"
      },
      "outputs": [],
      "source": [
        "#seed the psodurandom number generator\n",
        "from random import seed\n",
        "from random import random"
      ]
    },
    {
      "cell_type": "code",
      "execution_count": null,
      "id": "cloudy-transition",
      "metadata": {
        "id": "cloudy-transition"
      },
      "outputs": [],
      "source": [
        "#seed random number generator\n",
        "seed(3)"
      ]
    },
    {
      "cell_type": "code",
      "execution_count": null,
      "id": "aquatic-crawford",
      "metadata": {
        "id": "aquatic-crawford",
        "outputId": "3c7a79bc-c026-4599-bab8-17ae490820ab"
      },
      "outputs": [
        {
          "name": "stdout",
          "output_type": "stream",
          "text": [
            "0.23796462709189137 0.5442292252959519 0.36995516654807925\n"
          ]
        }
      ],
      "source": [
        "#generate some random number\n",
        "print(random(),random(),random())"
      ]
    },
    {
      "cell_type": "code",
      "execution_count": null,
      "id": "awful-hampshire",
      "metadata": {
        "id": "awful-hampshire"
      },
      "outputs": [],
      "source": [
        "seed(1)"
      ]
    },
    {
      "cell_type": "code",
      "execution_count": null,
      "id": "prerequisite-alberta",
      "metadata": {
        "id": "prerequisite-alberta",
        "outputId": "8a64555b-6d6c-482b-c891-0cece014dcf3"
      },
      "outputs": [
        {
          "name": "stdout",
          "output_type": "stream",
          "text": [
            "0.13436424411240122 0.8474337369372327 0.763774618976614\n"
          ]
        }
      ],
      "source": [
        "print(random(),random(),random())"
      ]
    },
    {
      "cell_type": "code",
      "execution_count": null,
      "id": "private-eugene",
      "metadata": {
        "id": "private-eugene"
      },
      "outputs": [],
      "source": [
        ""
      ]
    },
    {
      "cell_type": "markdown",
      "id": "dimensional-antique",
      "metadata": {
        "id": "dimensional-antique"
      },
      "source": [
        "# Random Floating point value"
      ]
    },
    {
      "cell_type": "code",
      "execution_count": null,
      "id": "tough-smell",
      "metadata": {
        "id": "tough-smell"
      },
      "outputs": [],
      "source": [
        "# \"generating random floating point value\"\n",
        "from random import seed\n",
        "from random import random"
      ]
    },
    {
      "cell_type": "code",
      "execution_count": null,
      "id": "caroline-natural",
      "metadata": {
        "id": "caroline-natural"
      },
      "outputs": [],
      "source": [
        "#seed random number geneartor\n",
        "seed(1)"
      ]
    },
    {
      "cell_type": "code",
      "execution_count": null,
      "id": "accessory-activity",
      "metadata": {
        "id": "accessory-activity",
        "outputId": "7b2f71de-a11d-46c3-de82-8dc3a35f23a9"
      },
      "outputs": [
        {
          "name": "stdout",
          "output_type": "stream",
          "text": [
            "0.13436424411240122\n",
            "0.8474337369372327\n",
            "0.763774618976614\n",
            "0.2550690257394217\n",
            "0.49543508709194095\n",
            "0.4494910647887381\n",
            "0.651592972722763\n",
            "0.7887233511355132\n",
            "0.0938595867742349\n",
            "0.02834747652200631\n"
          ]
        }
      ],
      "source": [
        "#generat random number between 0-1\n",
        "for _ in range(10):\n",
        "    value = random()\n",
        "    print(value)"
      ]
    },
    {
      "cell_type": "markdown",
      "id": "demonstrated-wrestling",
      "metadata": {
        "id": "demonstrated-wrestling"
      },
      "source": [
        "# Random Integer Value"
      ]
    },
    {
      "cell_type": "code",
      "execution_count": null,
      "id": "cordless-spare",
      "metadata": {
        "id": "cordless-spare"
      },
      "outputs": [],
      "source": [
        "from random import seed\n",
        "from random import randint"
      ]
    },
    {
      "cell_type": "code",
      "execution_count": null,
      "id": "boolean-brazil",
      "metadata": {
        "id": "boolean-brazil"
      },
      "outputs": [],
      "source": [
        "seed(1)"
      ]
    },
    {
      "cell_type": "code",
      "execution_count": null,
      "id": "encouraging-reducing",
      "metadata": {
        "id": "encouraging-reducing",
        "outputId": "a1bb5f39-839b-4b48-bb6b-2b89247ca31c"
      },
      "outputs": [
        {
          "name": "stdout",
          "output_type": "stream",
          "text": [
            "2\n",
            "9\n",
            "1\n",
            "4\n",
            "1\n",
            "7\n",
            "7\n",
            "7\n",
            "10\n",
            "6\n"
          ]
        }
      ],
      "source": [
        "for _ in range(10):\n",
        "    value = randint(0,10)\n",
        "    print(value)"
      ]
    },
    {
      "cell_type": "markdown",
      "id": "suspected-module",
      "metadata": {
        "id": "suspected-module"
      },
      "source": [
        "# Random Gaussian Values"
      ]
    },
    {
      "cell_type": "code",
      "execution_count": null,
      "id": "coated-manner",
      "metadata": {
        "id": "coated-manner"
      },
      "outputs": [],
      "source": [
        "from random import seed\n",
        "from random import gauss"
      ]
    },
    {
      "cell_type": "code",
      "execution_count": null,
      "id": "informational-identification",
      "metadata": {
        "id": "informational-identification"
      },
      "outputs": [],
      "source": [
        "seed(1)"
      ]
    },
    {
      "cell_type": "code",
      "execution_count": null,
      "id": "governmental-affair",
      "metadata": {
        "id": "governmental-affair",
        "outputId": "aa441de6-bcc9-4bb6-94c2-b72e43da3ab2"
      },
      "outputs": [
        {
          "name": "stdout",
          "output_type": "stream",
          "text": [
            "1.2881847531554629\n",
            "1.449445608699771\n",
            "0.06633580893826191\n",
            "-0.7645436509716318\n",
            "-1.0921732151041414\n",
            "0.03133451683171687\n",
            "-1.022103170010873\n",
            "-1.4368294451025299\n",
            "0.19931197648375384\n",
            "0.13337460465860485\n"
          ]
        }
      ],
      "source": [
        "for _ in range(10):\n",
        "    value = gauss(0,1)\n",
        "    print(value)"
      ]
    },
    {
      "cell_type": "code",
      "execution_count": null,
      "id": "inappropriate-algorithm",
      "metadata": {
        "id": "inappropriate-algorithm"
      },
      "outputs": [],
      "source": [
        ""
      ]
    },
    {
      "cell_type": "markdown",
      "id": "induced-skill",
      "metadata": {
        "id": "induced-skill"
      },
      "source": [
        "# Randomly choosing from a list"
      ]
    },
    {
      "cell_type": "code",
      "execution_count": null,
      "id": "objective-television",
      "metadata": {
        "id": "objective-television"
      },
      "outputs": [],
      "source": [
        "from random import choice\n",
        "from random import seed"
      ]
    },
    {
      "cell_type": "code",
      "execution_count": null,
      "id": "disturbed-click",
      "metadata": {
        "id": "disturbed-click"
      },
      "outputs": [],
      "source": [
        "seed(1)"
      ]
    },
    {
      "cell_type": "code",
      "execution_count": null,
      "id": "popular-cooper",
      "metadata": {
        "id": "popular-cooper",
        "outputId": "8a20b2ce-a91b-4382-fd10-50ef554139bd"
      },
      "outputs": [
        {
          "name": "stdout",
          "output_type": "stream",
          "text": [
            "[0, 1, 2, 3, 4, 5, 6, 7, 8, 9, 10, 11, 12, 13, 14, 15, 16, 17, 18, 19]\n",
            "4\n",
            "18\n",
            "2\n",
            "8\n",
            "3\n"
          ]
        }
      ],
      "source": [
        "#prepare a sequence\n",
        "sequence = [ i for i in range(20)]\n",
        "print(sequence)\n",
        "\n",
        "#make a choising from the sequence\n",
        "for _ in range(5):\n",
        "    selection = choice(sequence)\n",
        "    print(selection)"
      ]
    },
    {
      "cell_type": "code",
      "execution_count": null,
      "id": "every-boost",
      "metadata": {
        "id": "every-boost"
      },
      "outputs": [],
      "source": [
        ""
      ]
    },
    {
      "cell_type": "markdown",
      "id": "amazing-angle",
      "metadata": {
        "id": "amazing-angle"
      },
      "source": [
        "# Random Subsample from a list"
      ]
    },
    {
      "cell_type": "code",
      "execution_count": null,
      "id": "martial-plastic",
      "metadata": {
        "id": "martial-plastic"
      },
      "outputs": [],
      "source": [
        "# select a random sample without replacment\n",
        "from random import seed\n",
        "from random import sample"
      ]
    },
    {
      "cell_type": "code",
      "execution_count": null,
      "id": "charged-sight",
      "metadata": {
        "id": "charged-sight"
      },
      "outputs": [],
      "source": [
        "seed(1)"
      ]
    },
    {
      "cell_type": "code",
      "execution_count": null,
      "id": "palestinian-pricing",
      "metadata": {
        "id": "palestinian-pricing",
        "outputId": "aa87c8ed-b6f9-4432-bde6-7dea1779041a"
      },
      "outputs": [
        {
          "name": "stdout",
          "output_type": "stream",
          "text": [
            "[0, 1, 2, 3, 4, 5, 6, 7, 8, 9, 10, 11, 12, 13, 14, 15, 16, 17, 18, 19]\n",
            "[0, 12, 6, 13, 19, 8, 3, 18, 7, 11, 14, 16, 5, 1, 10, 17, 9, 4, 15, 2]\n"
          ]
        }
      ],
      "source": [
        "#prepare a sequence\n",
        "sequence = [ i for i in range(20)]\n",
        "print(sequence)\n",
        "\n",
        "# select a subset without replacment\n",
        "subset = sample(sequence,20)\n",
        "print(subset)"
      ]
    },
    {
      "cell_type": "markdown",
      "id": "embedded-seafood",
      "metadata": {
        "id": "embedded-seafood"
      },
      "source": [
        "sample >> (population, k)\n",
        "\n",
        "Docstring:\n",
        "\n",
        "\n",
        "Chooses k unique random elements from a population sequence or set.\n"
      ]
    },
    {
      "cell_type": "markdown",
      "id": "weekly-scope",
      "metadata": {
        "id": "weekly-scope"
      },
      "source": [
        "# Randomly Shuffle List"
      ]
    },
    {
      "cell_type": "code",
      "execution_count": null,
      "id": "positive-complement",
      "metadata": {
        "id": "positive-complement"
      },
      "outputs": [],
      "source": [
        "#Randomly shuffle a sequence\n",
        "from random import seed\n",
        "from random import shuffle"
      ]
    },
    {
      "cell_type": "code",
      "execution_count": null,
      "id": "convenient-plane",
      "metadata": {
        "id": "convenient-plane"
      },
      "outputs": [],
      "source": [
        "seed(1)"
      ]
    },
    {
      "cell_type": "code",
      "execution_count": null,
      "id": "color-brand",
      "metadata": {
        "id": "color-brand",
        "outputId": "55d2d65b-c8bf-4b47-a11f-3e0dc2bc4968"
      },
      "outputs": [
        {
          "name": "stdout",
          "output_type": "stream",
          "text": [
            "[0, 1, 2, 3, 4, 5, 6, 7, 8, 9]\n"
          ]
        }
      ],
      "source": [
        "#prepare a sequence\n",
        "sequence = [i for i in range(10)]\n",
        "print(sequence)"
      ]
    },
    {
      "cell_type": "code",
      "execution_count": null,
      "id": "actual-membership",
      "metadata": {
        "id": "actual-membership"
      },
      "outputs": [],
      "source": [
        "#randomly shuffle the sequence\n",
        "shuffle(sequence)"
      ]
    },
    {
      "cell_type": "code",
      "execution_count": null,
      "id": "macro-granny",
      "metadata": {
        "id": "macro-granny",
        "outputId": "c474ffb0-715e-4bca-b3ae-c62b763c77c6"
      },
      "outputs": [
        {
          "name": "stdout",
          "output_type": "stream",
          "text": [
            "[6, 8, 9, 7, 5, 3, 0, 4, 1, 2]\n"
          ]
        }
      ],
      "source": [
        "print(sequence)"
      ]
    },
    {
      "cell_type": "markdown",
      "id": "hydraulic-adapter",
      "metadata": {
        "id": "hydraulic-adapter"
      },
      "source": [
        "### seed the random number generator"
      ]
    },
    {
      "cell_type": "code",
      "execution_count": null,
      "id": "apart-attraction",
      "metadata": {
        "id": "apart-attraction"
      },
      "outputs": [],
      "source": [
        "from numpy.random import rand\n",
        "from numpy.random import seed"
      ]
    },
    {
      "cell_type": "code",
      "execution_count": null,
      "id": "behind-simpson",
      "metadata": {
        "id": "behind-simpson"
      },
      "outputs": [],
      "source": [
        "seed(1)"
      ]
    },
    {
      "cell_type": "code",
      "execution_count": null,
      "id": "obvious-editor",
      "metadata": {
        "id": "obvious-editor",
        "outputId": "3e1327f6-ad84-418d-c1a5-f4f6c3f413ca"
      },
      "outputs": [
        {
          "name": "stdout",
          "output_type": "stream",
          "text": [
            "[4.17022005e-01 7.20324493e-01 1.14374817e-04]\n"
          ]
        }
      ],
      "source": [
        "print(rand(3))"
      ]
    },
    {
      "cell_type": "code",
      "execution_count": null,
      "id": "combined-thomas",
      "metadata": {
        "id": "combined-thomas"
      },
      "outputs": [],
      "source": [
        "seed(1)"
      ]
    },
    {
      "cell_type": "code",
      "execution_count": null,
      "id": "classical-german",
      "metadata": {
        "id": "classical-german",
        "outputId": "5b7c73f0-69de-4e31-eebe-fff2b0a77b71"
      },
      "outputs": [
        {
          "name": "stdout",
          "output_type": "stream",
          "text": [
            "[4.17022005e-01 7.20324493e-01 1.14374817e-04]\n"
          ]
        }
      ],
      "source": [
        "print(rand(3))"
      ]
    },
    {
      "cell_type": "markdown",
      "id": "secret-platinum",
      "metadata": {
        "id": "secret-platinum"
      },
      "source": [
        "# Array Random Floating Point Value "
      ]
    },
    {
      "cell_type": "code",
      "execution_count": null,
      "id": "peaceful-feeling",
      "metadata": {
        "id": "peaceful-feeling"
      },
      "outputs": [],
      "source": [
        "from numpy.random import rand\n",
        "from numpy.random import seed"
      ]
    },
    {
      "cell_type": "code",
      "execution_count": null,
      "id": "adequate-mount",
      "metadata": {
        "id": "adequate-mount"
      },
      "outputs": [],
      "source": [
        "seed(1)"
      ]
    },
    {
      "cell_type": "code",
      "execution_count": null,
      "id": "killing-cathedral",
      "metadata": {
        "id": "killing-cathedral"
      },
      "outputs": [],
      "source": [
        "#generat random number between 0-1"
      ]
    },
    {
      "cell_type": "code",
      "execution_count": null,
      "id": "charged-couple",
      "metadata": {
        "id": "charged-couple",
        "outputId": "9fca38ab-a7b2-4538-f05b-6c48e71fd0e2"
      },
      "outputs": [
        {
          "name": "stdout",
          "output_type": "stream",
          "text": [
            "[0.41919451 0.6852195  0.20445225 0.87811744 0.02738759 0.67046751\n",
            " 0.4173048  0.55868983 0.14038694 0.19810149]\n"
          ]
        }
      ],
      "source": [
        "value = rand(10)\n",
        "print(value)"
      ]
    },
    {
      "cell_type": "markdown",
      "id": "excellent-arthritis",
      "metadata": {
        "id": "excellent-arthritis"
      },
      "source": [
        "# Array Random Integer Value"
      ]
    },
    {
      "cell_type": "code",
      "execution_count": null,
      "id": "judicial-class",
      "metadata": {
        "id": "judicial-class"
      },
      "outputs": [],
      "source": [
        "from numpy.random import randint\n",
        "from numpy.random import seed"
      ]
    },
    {
      "cell_type": "code",
      "execution_count": null,
      "id": "spoken-academy",
      "metadata": {
        "id": "spoken-academy"
      },
      "outputs": [],
      "source": [
        "seed(1)"
      ]
    },
    {
      "cell_type": "code",
      "execution_count": null,
      "id": "mobile-monkey",
      "metadata": {
        "id": "mobile-monkey",
        "outputId": "68741676-30d5-483b-9c10-99ad4e49b33f"
      },
      "outputs": [
        {
          "name": "stdout",
          "output_type": "stream",
          "text": [
            "[1 7 0 6 9 9 7 6 9 1 0 1 8 8 3 9 8 7 3 6]\n"
          ]
        }
      ],
      "source": [
        "value = randint(0,10,20)\n",
        "print(value)"
      ]
    },
    {
      "cell_type": "markdown",
      "id": "cordless-pearl",
      "metadata": {
        "id": "cordless-pearl"
      },
      "source": [
        "# Array Random Gaussian Values"
      ]
    },
    {
      "cell_type": "code",
      "execution_count": null,
      "id": "massive-statement",
      "metadata": {
        "id": "massive-statement"
      },
      "outputs": [],
      "source": [
        "from numpy.random import randn\n",
        "from numpy.random import seed"
      ]
    },
    {
      "cell_type": "code",
      "execution_count": null,
      "id": "preliminary-sleeping",
      "metadata": {
        "id": "preliminary-sleeping"
      },
      "outputs": [],
      "source": [
        "seed(1)"
      ]
    },
    {
      "cell_type": "code",
      "execution_count": null,
      "id": "danish-fight",
      "metadata": {
        "id": "danish-fight",
        "outputId": "c621621e-2df1-4360-aa66-f0978c506bc6"
      },
      "outputs": [
        {
          "name": "stdout",
          "output_type": "stream",
          "text": [
            "[ 1.46210794 -2.06014071 -0.3224172  -0.38405435  1.13376944 -1.09989127\n",
            " -0.17242821 -0.87785842  0.04221375  0.58281521]\n"
          ]
        }
      ],
      "source": [
        "#generat some gaussian values\n",
        "value = randn(10)\n",
        "print(value)"
      ]
    },
    {
      "cell_type": "markdown",
      "id": "returning-destruction",
      "metadata": {
        "id": "returning-destruction"
      },
      "source": [
        "# Shuffle numpy Array"
      ]
    },
    {
      "cell_type": "code",
      "execution_count": null,
      "id": "spread-perfume",
      "metadata": {
        "id": "spread-perfume"
      },
      "outputs": [],
      "source": [
        "from numpy.random import shuffle\n",
        "from numpy.random import seed"
      ]
    },
    {
      "cell_type": "code",
      "execution_count": null,
      "id": "treated-overhead",
      "metadata": {
        "id": "treated-overhead"
      },
      "outputs": [],
      "source": [
        "seed(1)"
      ]
    },
    {
      "cell_type": "code",
      "execution_count": null,
      "id": "unable-pakistan",
      "metadata": {
        "id": "unable-pakistan",
        "outputId": "9400ae22-da79-4a84-b02a-81e51e58350f"
      },
      "outputs": [
        {
          "name": "stdout",
          "output_type": "stream",
          "text": [
            "[0, 1, 2, 3, 4, 5, 6, 7, 8, 9, 10, 11, 12, 13, 14, 15, 16, 17, 18, 19]\n"
          ]
        }
      ],
      "source": [
        "sequence = [i for i in range(20)]\n",
        "print(sequence)"
      ]
    },
    {
      "cell_type": "code",
      "execution_count": null,
      "id": "antique-poland",
      "metadata": {
        "id": "antique-poland"
      },
      "outputs": [],
      "source": [
        "shuffle(sequence)"
      ]
    },
    {
      "cell_type": "code",
      "execution_count": null,
      "id": "advised-spell",
      "metadata": {
        "id": "advised-spell",
        "outputId": "7ea4ba90-7890-4cc3-871b-786b7cfdbd95"
      },
      "outputs": [
        {
          "name": "stdout",
          "output_type": "stream",
          "text": [
            "[9, 3, 16, 18, 0, 17, 1, 8, 19, 14, 15, 10, 12, 11, 4, 2, 5, 6, 13, 7]\n"
          ]
        }
      ],
      "source": [
        "print(sequence)"
      ]
    },
    {
      "cell_type": "markdown",
      "id": "opposed-variety",
      "metadata": {
        "id": "opposed-variety"
      },
      "source": [
        "# Low of Large Number\n",
        "\n",
        "## worked example"
      ]
    },
    {
      "cell_type": "code",
      "execution_count": null,
      "id": "weighted-proportion",
      "metadata": {
        "id": "weighted-proportion"
      },
      "outputs": [],
      "source": [
        "from numpy import arange\n",
        "from matplotlib import pyplot\n",
        "from scipy.stats import norm"
      ]
    },
    {
      "cell_type": "code",
      "execution_count": null,
      "id": "worst-viking",
      "metadata": {
        "id": "worst-viking"
      },
      "outputs": [],
      "source": [
        "#x_axis for the plot\n",
        "xaxis =arange(30,70,1)\n",
        "#y_axis for the plot\n",
        "yaxis = norm.pdf(xaxis,50,5)"
      ]
    },
    {
      "cell_type": "code",
      "execution_count": null,
      "id": "labeled-problem",
      "metadata": {
        "scrolled": true,
        "id": "labeled-problem",
        "outputId": "ffee7bf2-20c1-4b21-fbd2-08b35db3c5a1"
      },
      "outputs": [
        {
          "data": {
            "image/png": "[encoded data removed]",
            "text/plain": [
              "<Figure size 432x288 with 1 Axes>"
            ]
          },
          "metadata": {
            "needs_background": "light"
          },
          "output_type": "display_data"
        }
      ],
      "source": [
        "#plot ideal population\n",
        "pyplot.plot(xaxis,yaxis)\n",
        "pyplot.show()"
      ]
    },
    {
      "cell_type": "markdown",
      "id": "corporate-point",
      "metadata": {
        "id": "corporate-point"
      },
      "source": [
        "# Domnstrate The Law Of Large Number"
      ]
    },
    {
      "cell_type": "code",
      "execution_count": null,
      "id": "revised-transcription",
      "metadata": {
        "id": "revised-transcription"
      },
      "outputs": [],
      "source": [
        "from numpy.random import seed\n",
        "from numpy.random import randn\n",
        "from numpy import mean\n",
        "from numpy import array"
      ]
    },
    {
      "cell_type": "code",
      "execution_count": null,
      "id": "special-paragraph",
      "metadata": {
        "id": "special-paragraph"
      },
      "outputs": [],
      "source": [
        "seed(1)"
      ]
    },
    {
      "cell_type": "code",
      "execution_count": null,
      "id": "freelance-republic",
      "metadata": {
        "id": "freelance-republic"
      },
      "outputs": [],
      "source": [
        "#sample sizes"
      ]
    },
    {
      "cell_type": "code",
      "execution_count": null,
      "id": "bearing-oregon",
      "metadata": {
        "id": "bearing-oregon"
      },
      "outputs": [],
      "source": [
        "sizes = list()\n",
        "for x in range(10,20000,200):\n",
        "    sizes.append(x)"
      ]
    },
    {
      "cell_type": "code",
      "execution_count": null,
      "id": "minor-amazon",
      "metadata": {
        "id": "minor-amazon"
      },
      "outputs": [],
      "source": [
        "#generate samples of diffrent sizes and calculate their mean\n",
        "means = [mean(5*randn(size)+50)for size in sizes]"
      ]
    },
    {
      "cell_type": "code",
      "execution_count": null,
      "id": "designing-store",
      "metadata": {
        "id": "designing-store",
        "outputId": "91c6d6e1-f377-40ed-aa54-7c4311770253"
      },
      "outputs": [
        {
          "data": {
            "image/png": "[encoded data removed]",
            "text/plain": [
              "<Figure size 432x288 with 1 Axes>"
            ]
          },
          "metadata": {
            "needs_background": "light"
          },
          "output_type": "display_data"
        }
      ],
      "source": [
        "#plot sample mean error vs sample size\n",
        "pyplot.scatter(sizes,array(means)-50)\n",
        "pyplot.show()"
      ]
    },
    {
      "cell_type": "code",
      "execution_count": null,
      "id": "helpful-baker",
      "metadata": {
        "id": "helpful-baker"
      },
      "outputs": [],
      "source": [
        ""
      ]
    },
    {
      "cell_type": "markdown",
      "id": "continental-maryland",
      "metadata": {
        "id": "continental-maryland"
      },
      "source": [
        "# Chapter 4 \n",
        "\n",
        "# Central Limit Theorem\n",
        "\n",
        "worked example with dice\n",
        "\n",
        "the complete example is listed below"
      ]
    },
    {
      "cell_type": "code",
      "execution_count": null,
      "id": "clinical-behavior",
      "metadata": {
        "id": "clinical-behavior"
      },
      "outputs": [],
      "source": [
        "#generate random dice rolls\n",
        "\n",
        "from numpy.random import seed\n",
        "from numpy.random import randint\n",
        "from numpy import mean"
      ]
    },
    {
      "cell_type": "code",
      "execution_count": null,
      "id": "iraqi-uniform",
      "metadata": {
        "id": "iraqi-uniform"
      },
      "outputs": [],
      "source": [
        "seed(1)"
      ]
    },
    {
      "cell_type": "code",
      "execution_count": null,
      "id": "false-carpet",
      "metadata": {
        "id": "false-carpet",
        "outputId": "e4045c3e-dfd1-4ef3-853d-427e65811c66"
      },
      "outputs": [
        {
          "name": "stdout",
          "output_type": "stream",
          "text": [
            "[6 4 5 1 2 4 6 1 1 2 5 6 5 2 3 5 6 3 5 4 5 3 5 6 3 5 2 2 1 6 2 2 6 2 2 1 5\n",
            " 2 1 1 6 4 3 2 1 4 6 2 2 4]\n",
            "3.44\n"
          ]
        }
      ],
      "source": [
        "#generate a sample of die rols\n",
        "rolls = randint(1,7,50)\n",
        "print(rolls)\n",
        "print(mean(rolls))"
      ]
    },
    {
      "cell_type": "code",
      "execution_count": null,
      "id": "original-latin",
      "metadata": {
        "id": "original-latin"
      },
      "outputs": [],
      "source": [
        ""
      ]
    },
    {
      "cell_type": "markdown",
      "id": "secure-netherlands",
      "metadata": {
        "id": "secure-netherlands"
      },
      "source": [
        "### Histogram plot of sample means from dice roll simullation"
      ]
    },
    {
      "cell_type": "code",
      "execution_count": null,
      "id": "social-timer",
      "metadata": {
        "id": "social-timer"
      },
      "outputs": [],
      "source": [
        "# domenestration of the central limit theorm\n",
        "from numpy.random import seed\n",
        "from numpy.random import randint\n",
        "from numpy import mean\n",
        "from matplotlib import pyplot"
      ]
    },
    {
      "cell_type": "code",
      "execution_count": null,
      "id": "killing-syracuse",
      "metadata": {
        "id": "killing-syracuse"
      },
      "outputs": [],
      "source": [
        "seed(1)"
      ]
    },
    {
      "cell_type": "code",
      "execution_count": null,
      "id": "activated-burke",
      "metadata": {
        "id": "activated-burke"
      },
      "outputs": [],
      "source": [
        "# calculate the mean of 50 dice rolls 1000 times\n",
        "means = [mean(randint(1,7,50))for _ in range(1000)]"
      ]
    },
    {
      "cell_type": "code",
      "execution_count": null,
      "id": "latest-falls",
      "metadata": {
        "id": "latest-falls",
        "outputId": "753b5f1a-6a9d-43e0-989a-f5351f6bbde4"
      },
      "outputs": [
        {
          "data": {
            "text/plain": [
              "(array([ 16.,  31., 109., 154., 239., 223., 133.,  73.,  21.,   1.]),\n",
              " array([2.82 , 2.962, 3.104, 3.246, 3.388, 3.53 , 3.672, 3.814, 3.956,\n",
              "        4.098, 4.24 ]),\n",
              " <BarContainer object of 10 artists>)"
            ]
          },
          "execution_count": 10,
          "metadata": {},
          "output_type": "execute_result"
        },
        {
          "data": {
            "image/png": "[encoded data removed]",
            "text/plain": [
              "<Figure size 432x288 with 1 Axes>"
            ]
          },
          "metadata": {
            "needs_background": "light"
          },
          "output_type": "display_data"
        }
      ],
      "source": [
        "pyplot.hist(means)"
      ]
    },
    {
      "cell_type": "code",
      "execution_count": null,
      "id": "married-bangladesh",
      "metadata": {
        "id": "married-bangladesh"
      },
      "outputs": [],
      "source": [
        ""
      ]
    },
    {
      "cell_type": "markdown",
      "id": "inside-roller",
      "metadata": {
        "id": "inside-roller"
      },
      "source": [
        "# Gaussian Distribution"
      ]
    },
    {
      "cell_type": "code",
      "execution_count": null,
      "id": "lightweight-track",
      "metadata": {
        "id": "lightweight-track"
      },
      "outputs": [],
      "source": [
        "from numpy import arange\n",
        "from scipy.stats import norm\n",
        "from matplotlib import pyplot"
      ]
    },
    {
      "cell_type": "code",
      "execution_count": null,
      "id": "saved-seating",
      "metadata": {
        "id": "saved-seating"
      },
      "outputs": [],
      "source": [
        "sample_space = arange(-6,6,0.001)"
      ]
    },
    {
      "cell_type": "code",
      "execution_count": null,
      "id": "latest-lodging",
      "metadata": {
        "id": "latest-lodging"
      },
      "outputs": [],
      "source": [
        "mean = 0.0\n",
        "stdev = 1.0"
      ]
    },
    {
      "cell_type": "code",
      "execution_count": null,
      "id": "worth-tumor",
      "metadata": {
        "id": "worth-tumor"
      },
      "outputs": [],
      "source": [
        "pdf = norm.pdf(sample_space,mean,stdev)"
      ]
    },
    {
      "cell_type": "code",
      "execution_count": null,
      "id": "acting-change",
      "metadata": {
        "id": "acting-change",
        "outputId": "f66ba5f5-1804-4003-92ea-179366cc833c"
      },
      "outputs": [
        {
          "data": {
            "text/plain": [
              "[<matplotlib.lines.Line2D at 0x1e09d897f70>]"
            ]
          },
          "execution_count": 15,
          "metadata": {},
          "output_type": "execute_result"
        },
        {
          "data": {
            "image/png": "[encoded data removed]",
            "text/plain": [
              "<Figure size 432x288 with 1 Axes>"
            ]
          },
          "metadata": {
            "needs_background": "light"
          },
          "output_type": "display_data"
        }
      ],
      "source": [
        "pyplot.plot(pdf)"
      ]
    },
    {
      "cell_type": "code",
      "execution_count": null,
      "id": "interstate-creativity",
      "metadata": {
        "id": "interstate-creativity"
      },
      "outputs": [],
      "source": [
        ""
      ]
    },
    {
      "cell_type": "markdown",
      "id": "placed-luther",
      "metadata": {
        "id": "placed-luther"
      },
      "source": [
        "# Plot of gaussian [cumulative destribution function (cdf)]"
      ]
    },
    {
      "cell_type": "code",
      "execution_count": null,
      "id": "toxic-brave",
      "metadata": {
        "id": "toxic-brave"
      },
      "outputs": [],
      "source": [
        "from numpy import arange\n",
        "from scipy.stats import norm\n",
        "from matplotlib import pyplot"
      ]
    },
    {
      "cell_type": "code",
      "execution_count": null,
      "id": "mental-circumstances",
      "metadata": {
        "id": "mental-circumstances"
      },
      "outputs": [],
      "source": [
        "sample_space = arange(-5,5,0.001)"
      ]
    },
    {
      "cell_type": "code",
      "execution_count": null,
      "id": "standing-lyric",
      "metadata": {
        "id": "standing-lyric"
      },
      "outputs": [],
      "source": [
        "cdf = norm.cdf(sample_space)"
      ]
    },
    {
      "cell_type": "code",
      "execution_count": null,
      "id": "sunset-lodging",
      "metadata": {
        "id": "sunset-lodging",
        "outputId": "4d239d38-bab9-4034-f706-234f5ed48deb"
      },
      "outputs": [
        {
          "data": {
            "image/png": "[encoded data removed]",
            "text/plain": [
              "<Figure size 432x288 with 1 Axes>"
            ]
          },
          "metadata": {
            "needs_background": "light"
          },
          "output_type": "display_data"
        }
      ],
      "source": [
        "pyplot.plot(sample_space,cdf)\n",
        "pyplot.show()"
      ]
    },
    {
      "cell_type": "markdown",
      "id": "brutal-problem",
      "metadata": {
        "id": "brutal-problem"
      },
      "source": [
        "# Example Density Line Plot Of Students t Probability Density Function"
      ]
    },
    {
      "cell_type": "code",
      "execution_count": null,
      "id": "twelve-romance",
      "metadata": {
        "id": "twelve-romance"
      },
      "outputs": [],
      "source": [
        "from numpy import arange\n",
        "from matplotlib import pyplot\n",
        "from scipy.stats import t"
      ]
    },
    {
      "cell_type": "code",
      "execution_count": null,
      "id": "sustained-removal",
      "metadata": {
        "id": "sustained-removal"
      },
      "outputs": [],
      "source": [
        "#defin destribution parameter\n",
        "sample_space = arange(-5,5,0.001)\n",
        "dof = len(sample_space)-1"
      ]
    },
    {
      "cell_type": "code",
      "execution_count": null,
      "id": "human-button",
      "metadata": {
        "id": "human-button"
      },
      "outputs": [],
      "source": [
        "#calculate the pdf\n",
        "pdf =t.pdf(sample_space,dof)"
      ]
    },
    {
      "cell_type": "code",
      "execution_count": null,
      "id": "narrative-letters",
      "metadata": {
        "id": "narrative-letters",
        "outputId": "47c54ae2-cfff-432b-dbaf-718c460c2e8f"
      },
      "outputs": [
        {
          "data": {
            "image/png": "[encoded data removed]",
            "text/plain": [
              "<Figure size 432x288 with 1 Axes>"
            ]
          },
          "metadata": {
            "needs_background": "light"
          },
          "output_type": "display_data"
        }
      ],
      "source": [
        "pyplot.plot(sample_space,pdf)\n",
        "pyplot.show()"
      ]
    },
    {
      "cell_type": "code",
      "execution_count": null,
      "id": "affecting-classroom",
      "metadata": {
        "id": "affecting-classroom"
      },
      "outputs": [],
      "source": [
        ""
      ]
    },
    {
      "cell_type": "markdown",
      "id": "bigger-transcript",
      "metadata": {
        "id": "bigger-transcript"
      },
      "source": [
        "# Chi Squared pdf\n",
        "\n",
        "### chi squared probability density function"
      ]
    },
    {
      "cell_type": "code",
      "execution_count": null,
      "id": "premier-drawing",
      "metadata": {
        "id": "premier-drawing"
      },
      "outputs": [],
      "source": [
        "#Plot the chi sqared pdf\n",
        "from numpy import arange\n",
        "from scipy.stats import chi2\n",
        "from matplotlib import pyplot"
      ]
    },
    {
      "cell_type": "code",
      "execution_count": null,
      "id": "perfect-camera",
      "metadata": {
        "id": "perfect-camera"
      },
      "outputs": [],
      "source": [
        "# defin the destribution parameter\n",
        "sample_space = arange(0,50,0.01)"
      ]
    },
    {
      "cell_type": "code",
      "execution_count": null,
      "id": "challenging-detection",
      "metadata": {
        "id": "challenging-detection"
      },
      "outputs": [],
      "source": [
        "dof = 20"
      ]
    },
    {
      "cell_type": "code",
      "execution_count": null,
      "id": "foreign-michigan",
      "metadata": {
        "id": "foreign-michigan"
      },
      "outputs": [],
      "source": [
        "# calculate the pdf\n",
        "pdf = chi2.pdf(sample_space,dof)"
      ]
    },
    {
      "cell_type": "code",
      "execution_count": null,
      "id": "fixed-polish",
      "metadata": {
        "id": "fixed-polish",
        "outputId": "e6331eb6-81ee-483c-d7e8-7b6c0b49d542"
      },
      "outputs": [
        {
          "data": {
            "text/plain": [
              "[<matplotlib.lines.Line2D at 0x1e9e7f91df0>]"
            ]
          },
          "execution_count": 10,
          "metadata": {},
          "output_type": "execute_result"
        },
        {
          "data": {
            "image/png": "[encoded data removed]",
            "text/plain": [
              "<Figure size 432x288 with 1 Axes>"
            ]
          },
          "metadata": {
            "needs_background": "light"
          },
          "output_type": "display_data"
        }
      ],
      "source": [
        "pyplot.plot(sample_space,pdf)"
      ]
    },
    {
      "cell_type": "code",
      "execution_count": null,
      "id": "nominated-africa",
      "metadata": {
        "id": "nominated-africa"
      },
      "outputs": [],
      "source": [
        ""
      ]
    },
    {
      "cell_type": "markdown",
      "id": "structural-realtor",
      "metadata": {
        "id": "structural-realtor"
      },
      "source": [
        "# Chi squared cdf\n",
        "\n",
        "### chi squared cumulative destrbution function"
      ]
    },
    {
      "cell_type": "code",
      "execution_count": null,
      "id": "falling-prophet",
      "metadata": {
        "id": "falling-prophet"
      },
      "outputs": [],
      "source": [
        "#plot the chi squared function\n",
        "from numpy import arange\n",
        "from matplotlib import pyplot\n",
        "from scipy.stats import chi2"
      ]
    },
    {
      "cell_type": "code",
      "execution_count": null,
      "id": "funky-secondary",
      "metadata": {
        "id": "funky-secondary"
      },
      "outputs": [],
      "source": [
        "sample_space =arange(0,50,0.01)"
      ]
    },
    {
      "cell_type": "code",
      "execution_count": null,
      "id": "expired-dependence",
      "metadata": {
        "id": "expired-dependence"
      },
      "outputs": [],
      "source": [
        "dof = 20"
      ]
    },
    {
      "cell_type": "code",
      "execution_count": null,
      "id": "interesting-generation",
      "metadata": {
        "id": "interesting-generation"
      },
      "outputs": [],
      "source": [
        "cdf = chi2.cdf(sample_space,dof)"
      ]
    },
    {
      "cell_type": "code",
      "execution_count": null,
      "id": "military-shadow",
      "metadata": {
        "id": "military-shadow",
        "outputId": "2cb6d08e-7967-4ad4-8909-1ecff6cca05b"
      },
      "outputs": [
        {
          "data": {
            "image/png": "[encoded data removed]",
            "text/plain": [
              "<Figure size 432x288 with 1 Axes>"
            ]
          },
          "metadata": {
            "needs_background": "light"
          },
          "output_type": "display_data"
        }
      ],
      "source": [
        "pyplot.plot(sample_space,cdf)\n",
        "pyplot.show()"
      ]
    },
    {
      "cell_type": "markdown",
      "id": "cutting-dining",
      "metadata": {
        "id": "cutting-dining"
      },
      "source": [
        "# Covariance and correlation\n",
        "\n",
        "## Test DataSet"
      ]
    },
    {
      "cell_type": "code",
      "execution_count": null,
      "id": "manufactured-munich",
      "metadata": {
        "id": "manufactured-munich"
      },
      "outputs": [],
      "source": [
        "from numpy.random import randn\n",
        "from numpy.random import seed\n",
        "from numpy import std\n",
        "from numpy import mean \n",
        "from matplotlib import pyplot"
      ]
    },
    {
      "cell_type": "code",
      "execution_count": null,
      "id": "handmade-combine",
      "metadata": {
        "id": "handmade-combine"
      },
      "outputs": [],
      "source": [
        "seed(1)"
      ]
    },
    {
      "cell_type": "code",
      "execution_count": null,
      "id": "indie-brunei",
      "metadata": {
        "id": "indie-brunei"
      },
      "outputs": [],
      "source": [
        "data1 = 20 * randn(1000) +100\n",
        "\n",
        "data2 = data1 + (10 * randn(1000)+50)"
      ]
    },
    {
      "cell_type": "code",
      "execution_count": null,
      "id": "atomic-circus",
      "metadata": {
        "id": "atomic-circus",
        "outputId": "13a77cd7-de47-41b1-dcf6-775a76d77cf6"
      },
      "outputs": [
        {
          "name": "stdout",
          "output_type": "stream",
          "text": [
            "data1: mean=100.547 stdev=22.493\n",
            "data2: mean=150.325 stdev=22.493\n"
          ]
        }
      ],
      "source": [
        "#summrize\n",
        "print('data1: mean=%.3f stdev=%.3f' %(mean(data1),std(data2)))\n",
        "\n",
        "print('data2: mean=%.3f stdev=%.3f' % (mean(data2),std(data2)))"
      ]
    },
    {
      "cell_type": "code",
      "execution_count": null,
      "id": "coupled-gilbert",
      "metadata": {
        "id": "coupled-gilbert",
        "outputId": "19505739-b639-4f1d-dc8e-6a759af91f74"
      },
      "outputs": [
        {
          "data": {
            "image/png": "[encoded data removed]",
            "text/plain": [
              "<Figure size 432x288 with 1 Axes>"
            ]
          },
          "metadata": {
            "needs_background": "light"
          },
          "output_type": "display_data"
        }
      ],
      "source": [
        "pyplot.scatter(data1,data2)\n",
        "pyplot.show()"
      ]
    },
    {
      "cell_type": "markdown",
      "id": "vocal-graphic",
      "metadata": {
        "id": "vocal-graphic"
      },
      "source": [
        "# Covariance"
      ]
    },
    {
      "cell_type": "code",
      "execution_count": null,
      "id": "tired-photography",
      "metadata": {
        "id": "tired-photography"
      },
      "outputs": [],
      "source": [
        "from numpy import cov\n",
        "from numpy.random import randn\n",
        "from numpy.random import seed"
      ]
    },
    {
      "cell_type": "code",
      "execution_count": null,
      "id": "immune-consumer",
      "metadata": {
        "id": "immune-consumer"
      },
      "outputs": [],
      "source": [
        "seed(1)"
      ]
    },
    {
      "cell_type": "code",
      "execution_count": null,
      "id": "weighted-briefs",
      "metadata": {
        "id": "weighted-briefs"
      },
      "outputs": [],
      "source": [
        "data1 = 20 * (randn(1000)+50)\n",
        "data2 = data1 + (10 * randn(1000)+20)"
      ]
    },
    {
      "cell_type": "code",
      "execution_count": null,
      "id": "owned-publicity",
      "metadata": {
        "id": "owned-publicity"
      },
      "outputs": [],
      "source": [
        "covariance = cov(data1,data2)"
      ]
    },
    {
      "cell_type": "code",
      "execution_count": null,
      "id": "interested-article",
      "metadata": {
        "id": "interested-article",
        "outputId": "47c6df1c-cd6b-441b-df68-d806228aa157"
      },
      "outputs": [
        {
          "name": "stdout",
          "output_type": "stream",
          "text": [
            "[[385.33297729 389.7545618 ]\n",
            " [389.7545618  500.38006058]]\n"
          ]
        }
      ],
      "source": [
        "print(covariance)"
      ]
    },
    {
      "cell_type": "code",
      "execution_count": null,
      "id": "european-style",
      "metadata": {
        "id": "european-style"
      },
      "outputs": [],
      "source": [
        ""
      ]
    },
    {
      "cell_type": "markdown",
      "id": "serial-technical",
      "metadata": {
        "id": "serial-technical"
      },
      "source": [
        "# Pearson Correlation\n",
        "\n",
        "alpha = 0.5\n",
        "\n",
        "\n",
        "alpha > 0.5 some correlation\n",
        "\n",
        "\n",
        "alpha < 0.5 No correlation"
      ]
    },
    {
      "cell_type": "code",
      "execution_count": null,
      "id": "vanilla-participation",
      "metadata": {
        "id": "vanilla-participation"
      },
      "outputs": [],
      "source": [
        "from scipy.stats import pearsonr\n",
        "from numpy.random import randn\n",
        "from numpy.random import seed"
      ]
    },
    {
      "cell_type": "code",
      "execution_count": null,
      "id": "rolled-lexington",
      "metadata": {
        "id": "rolled-lexington"
      },
      "outputs": [],
      "source": [
        "seed(1)"
      ]
    },
    {
      "cell_type": "code",
      "execution_count": null,
      "id": "bearing-signal",
      "metadata": {
        "id": "bearing-signal"
      },
      "outputs": [],
      "source": [
        "data1 = 20 * (randn(1000)+50)\n",
        "data2 = data1 +(10 * randn(1000)+20)"
      ]
    },
    {
      "cell_type": "code",
      "execution_count": null,
      "id": "organic-elephant",
      "metadata": {
        "id": "organic-elephant",
        "outputId": "930f2997-9eac-42ff-a106-160194097642"
      },
      "outputs": [
        {
          "name": "stdout",
          "output_type": "stream",
          "text": [
            "pearson correlation:0.888\n"
          ]
        }
      ],
      "source": [
        "corr , p = pearsonr(data1,data2)\n",
        "print('pearson correlation:%.3f' %corr)"
      ]
    },
    {
      "cell_type": "code",
      "execution_count": null,
      "id": "creative-smile",
      "metadata": {
        "id": "creative-smile",
        "outputId": "91f1ea29-b6d6-4523-8c10-e2b875b6dc0c"
      },
      "outputs": [
        {
          "name": "stdout",
          "output_type": "stream",
          "text": [
            "some correlation(reject H0)\n"
          ]
        }
      ],
      "source": [
        "alpha = 0.5\n",
        "if p>0.5:\n",
        "    print('No correlation (faol to reject H0)')\n",
        "else:\n",
        "    print('some correlation(reject H0)')"
      ]
    },
    {
      "cell_type": "markdown",
      "id": "afraid-champagne",
      "metadata": {
        "id": "afraid-champagne"
      },
      "source": [
        "##### می توانیم ببینیم که این دو متغیر با هم ارتباط مثبت دارند و این همبستگی 0.888 است. این نشان دهنده سطح بالایی از همبستگی است (همانطور که انتظار داشتیم).\n",
        "\n",
        "##### p-value ≤ alpha :نتیجه قابل توجه ، رد فرضیه صفر ،\n",
        "\n",
        "\n",
        "##### p-value > alpha : نتیجه قابل توجهی ، عدم رد فرضیه صفر ، عدم وجود رابطه (H0)."
      ]
    },
    {
      "cell_type": "markdown",
      "id": "thrown-crystal",
      "metadata": {
        "id": "thrown-crystal"
      },
      "source": [
        " "
      ]
    },
    {
      "cell_type": "markdown",
      "id": "proprietary-applicant",
      "metadata": {
        "id": "proprietary-applicant"
      },
      "source": [
        "# Student T-test"
      ]
    },
    {
      "cell_type": "code",
      "execution_count": null,
      "id": "departmental-montana",
      "metadata": {
        "id": "departmental-montana"
      },
      "outputs": [],
      "source": [
        ""
      ]
    },
    {
      "cell_type": "code",
      "execution_count": null,
      "id": "incorporated-nirvana",
      "metadata": {
        "id": "incorporated-nirvana"
      },
      "outputs": [],
      "source": [
        ""
      ]
    },
    {
      "cell_type": "code",
      "execution_count": null,
      "id": "loving-information",
      "metadata": {
        "id": "loving-information"
      },
      "outputs": [],
      "source": [
        ""
      ]
    },
    {
      "cell_type": "code",
      "execution_count": null,
      "id": "spatial-subscription",
      "metadata": {
        "id": "spatial-subscription"
      },
      "outputs": [],
      "source": [
        ""
      ]
    },
    {
      "cell_type": "code",
      "execution_count": null,
      "id": "static-angle",
      "metadata": {
        "id": "static-angle"
      },
      "outputs": [],
      "source": [
        ""
      ]
    },
    {
      "cell_type": "code",
      "execution_count": null,
      "id": "yellow-balance",
      "metadata": {
        "id": "yellow-balance"
      },
      "outputs": [],
      "source": [
        ""
      ]
    },
    {
      "cell_type": "code",
      "execution_count": null,
      "id": "vulnerable-mixer",
      "metadata": {
        "id": "vulnerable-mixer"
      },
      "outputs": [],
      "source": [
        ""
      ]
    },
    {
      "cell_type": "code",
      "execution_count": null,
      "id": "competent-republican",
      "metadata": {
        "id": "competent-republican"
      },
      "outputs": [],
      "source": [
        ""
      ]
    },
    {
      "cell_type": "code",
      "execution_count": null,
      "id": "functioning-bench",
      "metadata": {
        "id": "functioning-bench"
      },
      "outputs": [],
      "source": [
        ""
      ]
    },
    {
      "cell_type": "code",
      "execution_count": null,
      "id": "colored-discharge",
      "metadata": {
        "id": "colored-discharge"
      },
      "outputs": [],
      "source": [
        ""
      ]
    },
    {
      "cell_type": "code",
      "execution_count": null,
      "id": "ignored-money",
      "metadata": {
        "id": "ignored-money"
      },
      "outputs": [],
      "source": [
        ""
      ]
    },
    {
      "cell_type": "code",
      "execution_count": null,
      "id": "educational-sheep",
      "metadata": {
        "id": "educational-sheep"
      },
      "outputs": [],
      "source": [
        ""
      ]
    },
    {
      "cell_type": "code",
      "execution_count": null,
      "id": "necessary-hartford",
      "metadata": {
        "id": "necessary-hartford"
      },
      "outputs": [],
      "source": [
        ""
      ]
    },
    {
      "cell_type": "code",
      "execution_count": null,
      "id": "thorough-kidney",
      "metadata": {
        "id": "thorough-kidney"
      },
      "outputs": [],
      "source": [
        ""
      ]
    },
    {
      "cell_type": "code",
      "execution_count": null,
      "id": "applied-intensity",
      "metadata": {
        "id": "applied-intensity"
      },
      "outputs": [],
      "source": [
        ""
      ]
    },
    {
      "cell_type": "code",
      "execution_count": null,
      "id": "perfect-niagara",
      "metadata": {
        "id": "perfect-niagara"
      },
      "outputs": [],
      "source": [
        ""
      ]
    },
    {
      "cell_type": "code",
      "execution_count": null,
      "id": "excellent-brain",
      "metadata": {
        "id": "excellent-brain"
      },
      "outputs": [],
      "source": [
        ""
      ]
    },
    {
      "cell_type": "code",
      "execution_count": null,
      "id": "cellular-tunnel",
      "metadata": {
        "id": "cellular-tunnel"
      },
      "outputs": [],
      "source": [
        ""
      ]
    },
    {
      "cell_type": "code",
      "execution_count": null,
      "id": "increasing-wisconsin",
      "metadata": {
        "id": "increasing-wisconsin"
      },
      "outputs": [],
      "source": [
        ""
      ]
    },
    {
      "cell_type": "code",
      "execution_count": null,
      "id": "correct-origin",
      "metadata": {
        "id": "correct-origin"
      },
      "outputs": [],
      "source": [
        ""
      ]
    },
    {
      "cell_type": "code",
      "execution_count": null,
      "id": "systematic-danish",
      "metadata": {
        "id": "systematic-danish"
      },
      "outputs": [],
      "source": [
        ""
      ]
    },
    {
      "cell_type": "code",
      "execution_count": null,
      "id": "tropical-jewelry",
      "metadata": {
        "id": "tropical-jewelry"
      },
      "outputs": [],
      "source": [
        ""
      ]
    },
    {
      "cell_type": "code",
      "execution_count": null,
      "id": "accomplished-alarm",
      "metadata": {
        "id": "accomplished-alarm"
      },
      "outputs": [],
      "source": [
        ""
      ]
    },
    {
      "cell_type": "code",
      "execution_count": null,
      "id": "engaged-madagascar",
      "metadata": {
        "id": "engaged-madagascar"
      },
      "outputs": [],
      "source": [
        ""
      ]
    }
  ],
  "metadata": {
    "kernelspec": {
      "display_name": "Python 3",
      "language": "python",
      "name": "python3"
    },
    "language_info": {
      "codemirror_mode": {
        "name": "ipython",
        "version": 3
      },
      "file_extension": ".py",
      "mimetype": "text/x-python",
      "name": "python",
      "nbconvert_exporter": "python",
      "pygments_lexer": "ipython3",
      "version": "3.8.5"
    },
    "colab": {
      "name": "Statistical Methods for Machine Learning.ipynb",
      "provenance": [],
      "include_colab_link": true
    }
  },
  "nbformat": 4,
  "nbformat_minor": 5
}